{
 "cells": [
  {
   "cell_type": "code",
   "execution_count": 1,
   "metadata": {
    "collapsed": true
   },
   "outputs": [],
   "source": [
    "import numpy as np\n",
    "import pandas as pd\n",
    "import matplotlib.pyplot as plt\n",
    "%matplotlib inline\n",
    "import time\n",
    "\n",
    "from sklearn.model_selection import train_test_split\n",
    "from sklearn.ensemble import RandomForestClassifier, ExtraTreesClassifier, VotingClassifier\n",
    "from sklearn.svm import SVC\n",
    "from sklearn.decomposition import PCA\n",
    "from sklearn.preprocessing import MinMaxScaler"
   ]
  },
  {
   "cell_type": "markdown",
   "metadata": {},
   "source": [
    "##### Part 1\n",
    "Load the MNIST data, and split it into a training set, a validation set, and a test set (e.g., use 40,000 instances for training, 10,000 for validation, and 10,000 for testing, use random_state = 2017). Then train a Random Forest classifier, an Extra-Trees classifier, and an SVM. Next, try to combine them into an ensemble that outperforms them all on the validation set, using a soft and hard voting classifier. Once you have found one, try it on the test set. How much better does it perform compared to the individual classifiers?"
   ]
  },
  {
   "cell_type": "markdown",
   "metadata": {},
   "source": [
    "### Load data"
   ]
  },
  {
   "cell_type": "code",
   "execution_count": 2,
   "metadata": {},
   "outputs": [
    {
     "data": {
      "text/plain": [
       "(60000, 785)"
      ]
     },
     "execution_count": 2,
     "metadata": {},
     "output_type": "execute_result"
    }
   ],
   "source": [
    "data = pd.read_csv('/Users/tWo/Documents/UTD/BUAN 6341 Machine Learning/Project 4/mnist_train.csv', header=None)\n",
    "data.shape"
   ]
  },
  {
   "cell_type": "markdown",
   "metadata": {},
   "source": [
    "### Display data"
   ]
  },
  {
   "cell_type": "code",
   "execution_count": 3,
   "metadata": {},
   "outputs": [
    {
     "data": {
      "text/html": [
       "<div>\n",
       "<style>\n",
       "    .dataframe thead tr:only-child th {\n",
       "        text-align: right;\n",
       "    }\n",
       "\n",
       "    .dataframe thead th {\n",
       "        text-align: left;\n",
       "    }\n",
       "\n",
       "    .dataframe tbody tr th {\n",
       "        vertical-align: top;\n",
       "    }\n",
       "</style>\n",
       "<table border=\"1\" class=\"dataframe\">\n",
       "  <thead>\n",
       "    <tr style=\"text-align: right;\">\n",
       "      <th></th>\n",
       "      <th>label</th>\n",
       "      <th>0</th>\n",
       "      <th>1</th>\n",
       "      <th>2</th>\n",
       "      <th>3</th>\n",
       "      <th>4</th>\n",
       "      <th>5</th>\n",
       "      <th>6</th>\n",
       "      <th>7</th>\n",
       "      <th>8</th>\n",
       "      <th>...</th>\n",
       "      <th>774</th>\n",
       "      <th>775</th>\n",
       "      <th>776</th>\n",
       "      <th>777</th>\n",
       "      <th>778</th>\n",
       "      <th>779</th>\n",
       "      <th>780</th>\n",
       "      <th>781</th>\n",
       "      <th>782</th>\n",
       "      <th>783</th>\n",
       "    </tr>\n",
       "  </thead>\n",
       "  <tbody>\n",
       "    <tr>\n",
       "      <th>0</th>\n",
       "      <td>5</td>\n",
       "      <td>0</td>\n",
       "      <td>0</td>\n",
       "      <td>0</td>\n",
       "      <td>0</td>\n",
       "      <td>0</td>\n",
       "      <td>0</td>\n",
       "      <td>0</td>\n",
       "      <td>0</td>\n",
       "      <td>0</td>\n",
       "      <td>...</td>\n",
       "      <td>0</td>\n",
       "      <td>0</td>\n",
       "      <td>0</td>\n",
       "      <td>0</td>\n",
       "      <td>0</td>\n",
       "      <td>0</td>\n",
       "      <td>0</td>\n",
       "      <td>0</td>\n",
       "      <td>0</td>\n",
       "      <td>0</td>\n",
       "    </tr>\n",
       "    <tr>\n",
       "      <th>1</th>\n",
       "      <td>0</td>\n",
       "      <td>0</td>\n",
       "      <td>0</td>\n",
       "      <td>0</td>\n",
       "      <td>0</td>\n",
       "      <td>0</td>\n",
       "      <td>0</td>\n",
       "      <td>0</td>\n",
       "      <td>0</td>\n",
       "      <td>0</td>\n",
       "      <td>...</td>\n",
       "      <td>0</td>\n",
       "      <td>0</td>\n",
       "      <td>0</td>\n",
       "      <td>0</td>\n",
       "      <td>0</td>\n",
       "      <td>0</td>\n",
       "      <td>0</td>\n",
       "      <td>0</td>\n",
       "      <td>0</td>\n",
       "      <td>0</td>\n",
       "    </tr>\n",
       "    <tr>\n",
       "      <th>2</th>\n",
       "      <td>4</td>\n",
       "      <td>0</td>\n",
       "      <td>0</td>\n",
       "      <td>0</td>\n",
       "      <td>0</td>\n",
       "      <td>0</td>\n",
       "      <td>0</td>\n",
       "      <td>0</td>\n",
       "      <td>0</td>\n",
       "      <td>0</td>\n",
       "      <td>...</td>\n",
       "      <td>0</td>\n",
       "      <td>0</td>\n",
       "      <td>0</td>\n",
       "      <td>0</td>\n",
       "      <td>0</td>\n",
       "      <td>0</td>\n",
       "      <td>0</td>\n",
       "      <td>0</td>\n",
       "      <td>0</td>\n",
       "      <td>0</td>\n",
       "    </tr>\n",
       "    <tr>\n",
       "      <th>3</th>\n",
       "      <td>1</td>\n",
       "      <td>0</td>\n",
       "      <td>0</td>\n",
       "      <td>0</td>\n",
       "      <td>0</td>\n",
       "      <td>0</td>\n",
       "      <td>0</td>\n",
       "      <td>0</td>\n",
       "      <td>0</td>\n",
       "      <td>0</td>\n",
       "      <td>...</td>\n",
       "      <td>0</td>\n",
       "      <td>0</td>\n",
       "      <td>0</td>\n",
       "      <td>0</td>\n",
       "      <td>0</td>\n",
       "      <td>0</td>\n",
       "      <td>0</td>\n",
       "      <td>0</td>\n",
       "      <td>0</td>\n",
       "      <td>0</td>\n",
       "    </tr>\n",
       "    <tr>\n",
       "      <th>4</th>\n",
       "      <td>9</td>\n",
       "      <td>0</td>\n",
       "      <td>0</td>\n",
       "      <td>0</td>\n",
       "      <td>0</td>\n",
       "      <td>0</td>\n",
       "      <td>0</td>\n",
       "      <td>0</td>\n",
       "      <td>0</td>\n",
       "      <td>0</td>\n",
       "      <td>...</td>\n",
       "      <td>0</td>\n",
       "      <td>0</td>\n",
       "      <td>0</td>\n",
       "      <td>0</td>\n",
       "      <td>0</td>\n",
       "      <td>0</td>\n",
       "      <td>0</td>\n",
       "      <td>0</td>\n",
       "      <td>0</td>\n",
       "      <td>0</td>\n",
       "    </tr>\n",
       "  </tbody>\n",
       "</table>\n",
       "<p>5 rows × 785 columns</p>\n",
       "</div>"
      ],
      "text/plain": [
       "   label  0  1  2  3  4  5  6  7  8 ...   774  775  776  777  778  779  780  \\\n",
       "0      5  0  0  0  0  0  0  0  0  0 ...     0    0    0    0    0    0    0   \n",
       "1      0  0  0  0  0  0  0  0  0  0 ...     0    0    0    0    0    0    0   \n",
       "2      4  0  0  0  0  0  0  0  0  0 ...     0    0    0    0    0    0    0   \n",
       "3      1  0  0  0  0  0  0  0  0  0 ...     0    0    0    0    0    0    0   \n",
       "4      9  0  0  0  0  0  0  0  0  0 ...     0    0    0    0    0    0    0   \n",
       "\n",
       "   781  782  783  \n",
       "0    0    0    0  \n",
       "1    0    0    0  \n",
       "2    0    0    0  \n",
       "3    0    0    0  \n",
       "4    0    0    0  \n",
       "\n",
       "[5 rows x 785 columns]"
      ]
     },
     "execution_count": 3,
     "metadata": {},
     "output_type": "execute_result"
    }
   ],
   "source": [
    "rename_col = ['label'] + list(range(784))\n",
    "data.columns = rename_col\n",
    "data.head()"
   ]
  },
  {
   "cell_type": "markdown",
   "metadata": {},
   "source": [
    "### Display digits"
   ]
  },
  {
   "cell_type": "code",
   "execution_count": 4,
   "metadata": {},
   "outputs": [
    {
     "data": {
      "image/png": "[encoded data removed]",
      "text/plain": [
       "<matplotlib.figure.Figure at 0x10be2f828>"
      ]
     },
     "metadata": {},
     "output_type": "display_data"
    }
   ],
   "source": [
    "plt.figure(figsize=(7,7))\n",
    "for i in range(0,30):\n",
    "    plt.subplot(7,10, i+1)\n",
    "    draw = data.iloc[i,1:]\n",
    "    draw = np.array(draw, dtype='uint8')\n",
    "    draw = draw.reshape((28,28))\n",
    "    plt.imshow(draw, cmap='afmhot')\n",
    "    plt.xticks([])\n",
    "    plt.yticks([])\n",
    "plt.tight_layout()"
   ]
  },
  {
   "cell_type": "markdown",
   "metadata": {},
   "source": [
    "### Split data"
   ]
  },
  {
   "cell_type": "code",
   "execution_count": 5,
   "metadata": {},
   "outputs": [
    {
     "name": "stdout",
     "output_type": "stream",
     "text": [
      "training size: 40000\n",
      "validation size: 10000\n",
      "test size: 10000\n"
     ]
    }
   ],
   "source": [
    "X, Y = data.drop('label', axis=1), data['label']\n",
    "x, x1, y, y1 = train_test_split(X, Y, test_size=20000, random_state=2017)\n",
    "x_vali, x_test, y_vali, y_test = train_test_split(x1, y1, test_size=0.5, random_state=2017)\n",
    "print('training size:', len(x))\n",
    "print('validation size:', len(x_vali))\n",
    "print('test size:', len(x_test))"
   ]
  },
  {
   "cell_type": "markdown",
   "metadata": {},
   "source": [
    "### Random Forest\n",
    "#### Model Building and Parameter Tuning"
   ]
  },
  {
   "cell_type": "code",
   "execution_count": 6,
   "metadata": {},
   "outputs": [
    {
     "name": "stdout",
     "output_type": "stream",
     "text": [
      "For min leaf size equals to 1\n",
      "Training set score:   1.0 \t Validation set score: 0.9673\n",
      "For min leaf size equals to 5\n",
      "Training set score:   0.98905 \t Validation set score: 0.9601\n",
      "For min leaf size equals to 10\n",
      "Training set score:   0.974975 \t Validation set score: 0.9529\n",
      "For min leaf size equals to 20\n",
      "Training set score:   0.958975 \t Validation set score: 0.9456\n",
      "For min leaf size equals to 40\n",
      "Training set score:   0.942625 \t Validation set score: 0.9355\n"
     ]
    },
    {
     "data": {
      "image/png": "[encoded data removed]",
      "text/plain": [
       "<matplotlib.figure.Figure at 0x1098160b8>"
      ]
     },
     "metadata": {},
     "output_type": "display_data"
    }
   ],
   "source": [
    "score_1 = []\n",
    "score_2 = []\n",
    "leafs = [1,5,10,20,40]\n",
    "for leaf in leafs:\n",
    "    rf = RandomForestClassifier(n_estimators=50, min_samples_leaf=leaf, random_state=2017)\n",
    "    rf.fit(x, y)\n",
    "    print('For min leaf size equals to', leaf)\n",
    "    print('Training set score:  ', rf.score(x,y), '\\t', 'Validation set score:', rf.score(x_vali, y_vali))\n",
    "    score_1.append(rf.score(x,y))\n",
    "    score_2.append(rf.score(x_vali, y_vali))\n",
    "\n",
    "plt.figure(figsize=(16,4))\n",
    "plt.plot(leafs, score_1, 'b')\n",
    "plt.plot(leafs, score_2, 'r')\n",
    "plt.legend(['Train', 'Validation'])\n",
    "plt.show()"
   ]
  },
  {
   "cell_type": "markdown",
   "metadata": {
    "collapsed": true
   },
   "source": [
    "#### Prediction"
   ]
  },
  {
   "cell_type": "code",
   "execution_count": 7,
   "metadata": {},
   "outputs": [
    {
     "name": "stdout",
     "output_type": "stream",
     "text": [
      "Using test set to check accuracy: 0.9629\n"
     ]
    }
   ],
   "source": [
    "rf = RandomForestClassifier(n_estimators=50, min_samples_leaf=1, random_state=2017)\n",
    "rf.fit(x,y)\n",
    "print('Using test set to check accuracy:', rf.score(x_test, y_test))"
   ]
  },
  {
   "cell_type": "markdown",
   "metadata": {
    "collapsed": true
   },
   "source": [
    "### Extremely Randomized Trees\n",
    "#### Model Building and Tuning Parameter"
   ]
  },
  {
   "cell_type": "code",
   "execution_count": 8,
   "metadata": {},
   "outputs": [
    {
     "name": "stdout",
     "output_type": "stream",
     "text": [
      "For estimator size equals to 10\n",
      "Training set score:   1.0 \t Validation set score: 0.9456\n",
      "For estimator size equals to 20\n",
      "Training set score:   1.0 \t Validation set score: 0.9602\n",
      "For estimator size equals to 30\n",
      "Training set score:   1.0 \t Validation set score: 0.9647\n",
      "For estimator size equals to 40\n",
      "Training set score:   1.0 \t Validation set score: 0.9664\n",
      "For estimator size equals to 50\n",
      "Training set score:   1.0 \t Validation set score: 0.9681\n"
     ]
    },
    {
     "data": {
      "image/png": "[encoded data removed]",
      "text/plain": [
       "<matplotlib.figure.Figure at 0x109812780>"
      ]
     },
     "metadata": {},
     "output_type": "display_data"
    }
   ],
   "source": [
    "score_1 = []\n",
    "score_2 = []\n",
    "estimator = [10,20,30,40,50]\n",
    "for est in estimator:\n",
    "    et = ExtraTreesClassifier(n_estimators=est, random_state=2017)\n",
    "    et.fit(x, y)\n",
    "    print('For estimator size equals to', est)\n",
    "    print('Training set score:  ', et.score(x,y), '\\t', 'Validation set score:', et.score(x_vali, y_vali))\n",
    "    score_1.append(et.score(x,y))\n",
    "    score_2.append(et.score(x_vali, y_vali))\n",
    "\n",
    "plt.figure(figsize=(16,4))\n",
    "plt.plot(estimator, score_1, 'b')\n",
    "plt.plot(estimator, score_2, 'r')\n",
    "plt.legend(['Train', 'Validation'])\n",
    "plt.ylabel('Accuracy')\n",
    "plt.xlabel('Prameter')\n",
    "plt.show()"
   ]
  },
  {
   "cell_type": "markdown",
   "metadata": {},
   "source": [
    "#### Prediction"
   ]
  },
  {
   "cell_type": "code",
   "execution_count": 9,
   "metadata": {},
   "outputs": [
    {
     "name": "stdout",
     "output_type": "stream",
     "text": [
      "Using test set to check accuracy: 0.9668\n"
     ]
    }
   ],
   "source": [
    "et = ExtraTreesClassifier(n_estimators=40, random_state=2017)\n",
    "et.fit(x, y)\n",
    "print('Using test set to check accuracy:', et.score(x_test, y_test))"
   ]
  },
  {
   "cell_type": "markdown",
   "metadata": {},
   "source": [
    "### SVM\n",
    "#### Model Building and Parameter Tuning\n",
    "\n",
    "The time complexity for SVM using \"rbf\" kernel bound is between $ O(dn^2)$ and $O(dn^3)$ where d represents the number of features and n represents the nubmer of instances. <br>\n",
    "For training 1% of the training data which is 400 instances, the run time is about 1.2 seconds.<br>\n",
    "Thus for training 40,000 instances, the run time will be $(100*t)^2$, which is roughly 14400 seconds, equivalents to 4 hours.<br>\n",
    "So I decided to use only 4000 instances to build the model as I asked the professor."
   ]
  },
  {
   "cell_type": "code",
   "execution_count": 10,
   "metadata": {
    "collapsed": true
   },
   "outputs": [],
   "source": [
    "a, drop1, b, drop2 = train_test_split(x, y, test_size=36000, random_state=2017)"
   ]
  },
  {
   "cell_type": "code",
   "execution_count": 11,
   "metadata": {},
   "outputs": [
    {
     "name": "stdout",
     "output_type": "stream",
     "text": [
      "Training set score:   1.0\n",
      "Training run time:    135.63803386688232\n",
      "Validation set score: 0.1156\n",
      "Testing set score:    0.112\n"
     ]
    }
   ],
   "source": [
    "svm = SVC(probability=True, random_state=2017)\n",
    "start = time.time()\n",
    "svm.fit(a, b)\n",
    "end = time.time()\n",
    "print('Training set score:  ', svm.score(a, b))\n",
    "print('Training run time:   ', end-start)\n",
    "print('Validation set score:', svm.score(x_vali, y_vali))\n",
    "print('Testing set score:   ', svm.score(x_test, y_test))"
   ]
  },
  {
   "cell_type": "code",
   "execution_count": 12,
   "metadata": {
    "collapsed": true
   },
   "outputs": [],
   "source": [
    "# score_1 = []\n",
    "# score_2 = []\n",
    "# gammas = np.logspace(-2,1,5)\n",
    "# for gamma in gammas:\n",
    "#     svm = SVC(gamma=gamma, random_state=2017)\n",
    "#     svm.fit(x, y)\n",
    "#     print('For estimator size equals to', leaf)\n",
    "#     print('Training set score:  ', svm.score(x,y), '\\t', 'Validation set score:', svm.score(x_vali, y_vali))\n",
    "#     score_1.append(svm.score(x,y))\n",
    "#     score_2.append(svm.score(x_vali, y_vali))\n",
    "\n",
    "# plt.figure(figsize=(16,4))\n",
    "# plt.plot(gammas, score_1, 'b')\n",
    "# plt.plot(gammas, score_2, 'r')\n",
    "# plt.legend(['Train', 'Validation'])\n",
    "# plt.ylabel('Accuracy')\n",
    "# plt.xlabel('Prameter')\n",
    "# plt.show()"
   ]
  },
  {
   "cell_type": "markdown",
   "metadata": {
    "collapsed": true
   },
   "source": [
    "### Ensemble\n",
    "Because the voting classifier needs to fit the x and y again. The SVM will take probably too long to get the result and it does not perform well, so here I only use Random Forest and Extra-Tree to be the estimators.\n",
    "#### Soft Voting"
   ]
  },
  {
   "cell_type": "code",
   "execution_count": 13,
   "metadata": {},
   "outputs": [
    {
     "name": "stdout",
     "output_type": "stream",
     "text": [
      "Training set score:   1.0\n",
      "Validation set score: 0.9709\n",
      "Testing set score:    0.9689\n"
     ]
    }
   ],
   "source": [
    "soft = VotingClassifier(estimators=[('rf',rf),('et',et)], voting='soft')\n",
    "soft.fit(x,y)\n",
    "print('Training set score:  ', soft.score(x, y))\n",
    "print('Validation set score:', soft.score(x_vali, y_vali))\n",
    "print('Testing set score:   ', soft.score(x_test, y_test))"
   ]
  },
  {
   "cell_type": "markdown",
   "metadata": {
    "collapsed": true
   },
   "source": [
    "#### Hard Voting"
   ]
  },
  {
   "cell_type": "code",
   "execution_count": 14,
   "metadata": {},
   "outputs": [
    {
     "name": "stdout",
     "output_type": "stream",
     "text": [
      "Training set score:   1.0\n",
      "Validation set score: 0.9657\n",
      "Testing set score:    0.9642\n"
     ]
    }
   ],
   "source": [
    "hard = VotingClassifier(estimators=[('rf',rf),('et',et)], voting='hard')\n",
    "hard.fit(x,y)\n",
    "print('Training set score:  ', hard.score(x, y))\n",
    "print('Validation set score:', hard.score(x_vali, y_vali))\n",
    "print('Testing set score:   ', hard.score(x_test, y_test))"
   ]
  },
  {
   "cell_type": "markdown",
   "metadata": {},
   "source": [
    "The best result is softing method, the test set has accuracy of 0.9689 which is bettr than the individual classifier Extra-tree which is 0.9668. So here I will choose soft voting as the final classifier."
   ]
  },
  {
   "cell_type": "markdown",
   "metadata": {
    "collapsed": true
   },
   "source": [
    "#### To include SVM, code is here"
   ]
  },
  {
   "cell_type": "code",
   "execution_count": null,
   "metadata": {
    "collapsed": true
   },
   "outputs": [],
   "source": [
    "# soft = VotingClassifier(estimators=[('rf',rf),('et',et),('svm',svm)], voting='soft')\n",
    "# soft.fit(x,y)\n",
    "# print('Training set score:  ', soft.score(x, y))\n",
    "# print('Validation set score:', soft.score(x_vali, y_vali))\n",
    "# print('Testing set score:   ', soft.score(x_test, y_test))\n",
    "\n",
    "# hard = VotingClassifier(estimators=[('rf',rf),('et',et),('svm',svm)], voting='hard')\n",
    "# hard.fit(x,y)\n",
    "# print('Training set score:  ', hard.score(x, y))\n",
    "# print('Validation set score:', hard.score(x_vali, y_vali))\n",
    "# print('Testing set score:   ', hard.score(x_test, y_test))"
   ]
  },
  {
   "cell_type": "markdown",
   "metadata": {},
   "source": [
    "##### Part 2\n",
    "On MNIST dataset with above split, train a Random Forest classifier on the dataset and time how long it takes, then evaluate the resulting model on the test set. Next, use PCA to reduce the dataset’s dimensionality, with an explained variance ratio of 95%. Train a new Random Forest classifier on the reduced dataset and see how long it takes. Was training much faster? Next evaluate the classifier on the test set: how does it compare to the previous classifier?"
   ]
  },
  {
   "cell_type": "markdown",
   "metadata": {},
   "source": [
    "#### Train the model and record timespan"
   ]
  },
  {
   "cell_type": "code",
   "execution_count": 15,
   "metadata": {},
   "outputs": [
    {
     "name": "stdout",
     "output_type": "stream",
     "text": [
      "Train set score: 0.998925\n",
      "Validation set score: 0.9451\n",
      "Test set score: 0.94\n",
      "\n",
      "Time spent on training the model ---- 2.41157293 seconds ----\n"
     ]
    }
   ],
   "source": [
    "rf = RandomForestClassifier(random_state=2017)\n",
    "\n",
    "# scale = MinMaxScaler((1,10))\n",
    "# scale.fit(x)\n",
    "# x_scale = scale.transform(x)\n",
    "# x_vali_scale = scale.transform(x_vali)\n",
    "# x_test_scale = scale.transform(x_test)\n",
    "\n",
    "start = time.time()\n",
    "rf.fit(x,y)\n",
    "end = time.time()\n",
    "\n",
    "print('Train set score:', rf.score(x,y))\n",
    "print('Validation set score:', rf.score(x_vali, y_vali))\n",
    "print('Test set score:', rf.score(x_test, y_test))\n",
    "print('')\n",
    "print('Time spent on training the model ---- {:.8f} seconds ----'.format(end-start))"
   ]
  },
  {
   "cell_type": "markdown",
   "metadata": {},
   "source": [
    "#### Implementing PCA"
   ]
  },
  {
   "cell_type": "code",
   "execution_count": 16,
   "metadata": {
    "scrolled": false
   },
   "outputs": [
    {
     "name": "stdout",
     "output_type": "stream",
     "text": [
      "---------------------------------------------------------------------------------------------------------\n",
      "After fitting x with PCA, the variance in percentage kept is 0.332612655196\n",
      "By keeping 0.33 variance, we have 5 principle components for training the model\n",
      "\n",
      "Building Random Forest using PCA transformed x\n",
      "\n",
      "Time spent on training the model ---- 0.97151923 seconds ----\n",
      "\n",
      "Train set score: 0.9878\n",
      "Validation set score: 0.7337\n",
      "Test set score: 0.7301\n",
      "\n",
      "---------------------------------------------------------------------------------------------------------\n",
      "After fitting x with PCA, the variance in percentage kept is 0.509515673827\n",
      "By keeping 0.51 variance, we have 11 principle components for training the model\n",
      "\n",
      "Building Random Forest using PCA transformed x\n",
      "\n",
      "Time spent on training the model ---- 1.33921790 seconds ----\n",
      "\n",
      "Train set score: 0.99675\n",
      "Validation set score: 0.8903\n",
      "Test set score: 0.8852\n",
      "\n",
      "---------------------------------------------------------------------------------------------------------\n",
      "After fitting x with PCA, the variance in percentage kept is 0.70029903445\n",
      "By keeping 0.70 variance, we have 26 principle components for training the model\n",
      "\n",
      "Building Random Forest using PCA transformed x\n",
      "\n",
      "Time spent on training the model ---- 2.28603911 seconds ----\n",
      "\n",
      "Train set score: 0.99885\n",
      "Validation set score: 0.9249\n",
      "Test set score: 0.921\n",
      "\n",
      "---------------------------------------------------------------------------------------------------------\n",
      "After fitting x with PCA, the variance in percentage kept is 0.950306991722\n",
      "By keeping 0.95 variance, we have 154 principle components for training the model\n",
      "\n",
      "Building Random Forest using PCA transformed x\n",
      "\n",
      "Time spent on training the model ---- 5.47637606 seconds ----\n",
      "\n",
      "Train set score: 0.998975\n",
      "Validation set score: 0.8824\n",
      "Test set score: 0.8837\n",
      "\n"
     ]
    },
    {
     "data": {
      "image/png": "[encoded data removed]",
      "text/plain": [
       "<matplotlib.figure.Figure at 0x10b800ef0>"
      ]
     },
     "metadata": {},
     "output_type": "display_data"
    },
    {
     "data": {
      "image/png": "[encoded data removed]",
      "text/plain": [
       "<matplotlib.figure.Figure at 0x1093d2c18>"
      ]
     },
     "metadata": {},
     "output_type": "display_data"
    }
   ],
   "source": [
    "timespan = []\n",
    "trai_score = []\n",
    "vali_score = []\n",
    "test_score = []\n",
    "n_comp = [0.3, 0.5, 0.7, 0.95]\n",
    "for i in n_comp:\n",
    "    pca = PCA(n_components=i, random_state=2017)\n",
    "    pca.fit(x)\n",
    "    x_t = pca.transform(x)\n",
    "    print('---------------------------------------------------------------------------------------------------------')\n",
    "    print('After fitting x with PCA, the variance in percentage kept is', sum(pca.explained_variance_ratio_))\n",
    "    print('By keeping {:.2f} variance, we have {} principle components for training the model'\n",
    "          .format(sum(pca.explained_variance_ratio_), pca.n_components_))\n",
    "    x_vali_t = pca.transform(x_vali)\n",
    "    x_test_t = pca.transform(x_test)\n",
    "\n",
    "    # scale.fit(x_t)\n",
    "    # x_t_scale = scale.transform(x_t)\n",
    "    # x_vali_t_scale = scale.transform(x_vali_t)\n",
    "    # x_test_t_scale = scale.transform(x_test_t)\n",
    "\n",
    "\n",
    "    print('\\nBuilding Random Forest using PCA transformed x')\n",
    "    start = time.time()\n",
    "    rf.fit(x_t, y)\n",
    "    end = time.time()\n",
    "    print('\\nTime spent on training the model ---- {:.8f} seconds ----'.format(end-start))\n",
    "\n",
    "    print('\\nTrain set score:', rf.score(x_t,y))\n",
    "    print('Validation set score:', rf.score(x_vali_t, y_vali))\n",
    "    print('Test set score:', rf.score(x_test_t, y_test))\n",
    "    print('')\n",
    "    \n",
    "    timespan.append(end-start)\n",
    "    trai_score.append(rf.score(x_t,y))\n",
    "    vali_score.append(rf.score(x_vali_t, y_vali))\n",
    "    test_score.append(rf.score(x_test_t, y_test))\n",
    "\n",
    "plt.figure(figsize=(16,5))\n",
    "plt.plot(n_comp, trai_score)\n",
    "plt.plot(n_comp, vali_score)\n",
    "plt.plot(n_comp, test_score)\n",
    "plt.title('Score for train, validation and test')\n",
    "plt.legend(['train', 'validation', 'test'])\n",
    "plt.show()\n",
    "\n",
    "plt.figure(figsize=(12,4))\n",
    "plt.plot(n_comp, timespan)\n",
    "plt.title('Time spent for different percentage variance')\n",
    "plt.show()"
   ]
  },
  {
   "cell_type": "markdown",
   "metadata": {},
   "source": [
    "### Time complexity for Random Forest\n",
    "\n",
    "O( v * n log(n) )\n",
    "\n",
    "Where v represents variables and n represents observations. <br>\n",
    "Varaibles droped from 785 to 153 applying the PCA with 95% explained variance.<br>\n",
    "The time spent should be reduced. <br>\n",
    "However, the result shows that after PCA (95%) the time spent on training the model is greater than the original model building.\n",
    "\n",
    "\n",
    "The best accuracy is before PCA using the random forest, which is about 94%. After the PCA, accuracy does not get a better result. This may be because the Random Forest is already built a very good model that further feature manipulation cannot improve it anymore as some information will be lost by using PCA."
   ]
  },
  {
   "cell_type": "code",
   "execution_count": null,
   "metadata": {
    "collapsed": true
   },
   "outputs": [],
   "source": []
  }
 ],
 "metadata": {
  "kernelspec": {
   "display_name": "Python 3",
   "language": "python",
   "name": "python3"
  },
  "language_info": {
   "codemirror_mode": {
    "name": "ipython",
    "version": 3
   },
   "file_extension": ".py",
   "mimetype": "text/x-python",
   "name": "python",
   "nbconvert_exporter": "python",
   "pygments_lexer": "ipython3",
   "version": "3.6.4"
  }
 },
 "nbformat": 4,
 "nbformat_minor": 2
}
