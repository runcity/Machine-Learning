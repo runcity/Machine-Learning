{
 "cells": [
  {
   "cell_type": "code",
   "execution_count": 1,
   "metadata": {},
   "outputs": [
    {
     "name": "stderr",
     "output_type": "stream",
     "text": [
      "//anaconda/lib/python3.6/site-packages/statsmodels/compat/pandas.py:56: FutureWarning: The pandas.core.datetools module is deprecated and will be removed in a future version. Please use the pandas.tseries module instead.\n",
      "  from pandas.core import datetools\n"
     ]
    }
   ],
   "source": [
    "import numpy as np\n",
    "import pandas as pd\n",
    "import matplotlib\n",
    "import matplotlib.pyplot as plt\n",
    "import seaborn as sns\n",
    "from scipy.stats import kstest, f_oneway\n",
    "from datetime import datetime as dt, timedelta\n",
    "from geopy.distance import vincenty\n",
    "sns.set_style(\"whitegrid\")\n",
    "%matplotlib inline\n",
    "\n",
    "from sklearn.model_selection import train_test_split\n",
    "from sklearn.linear_model import LinearRegression\n",
    "import statsmodels.api as sm\n",
    "import warnings\n",
    "warnings.filterwarnings('ignore')"
   ]
  },
  {
   "cell_type": "markdown",
   "metadata": {},
   "source": [
    "# Question 1\n",
    "\n",
    "#### Download the data set"
   ]
  },
  {
   "cell_type": "code",
   "execution_count": 2,
   "metadata": {
    "collapsed": true
   },
   "outputs": [],
   "source": [
    "data = pd.read_csv('https://s3.amazonaws.com/nyc-tlc/trip+data/green_tripdata_2015-09.csv', parse_dates=['lpep_pickup_datetime', 'Lpep_dropoff_datetime'])"
   ]
  },
  {
   "cell_type": "markdown",
   "metadata": {},
   "source": [
    "#### Show basic information about the dataset"
   ]
  },
  {
   "cell_type": "code",
   "execution_count": 3,
   "metadata": {},
   "outputs": [
    {
     "name": "stdout",
     "output_type": "stream",
     "text": [
      "The dataset has 1,494,926 rows and 21 columns. \n",
      "\n",
      "The dataset has following features: \n",
      " ['VendorID', 'lpep_pickup_datetime', 'Lpep_dropoff_datetime', 'Store_and_fwd_flag', 'RateCodeID', 'Pickup_longitude', 'Pickup_latitude', 'Dropoff_longitude', 'Dropoff_latitude', 'Passenger_count', 'Trip_distance', 'Fare_amount', 'Extra', 'MTA_tax', 'Tip_amount', 'Tolls_amount', 'Ehail_fee', 'improvement_surcharge', 'Total_amount', 'Payment_type', 'Trip_type '] \n",
      "\n",
      "Overview of the dataset:\n"
     ]
    },
    {
     "data": {
      "text/html": [
       "<div>\n",
       "<style>\n",
       "    .dataframe thead tr:only-child th {\n",
       "        text-align: right;\n",
       "    }\n",
       "\n",
       "    .dataframe thead th {\n",
       "        text-align: left;\n",
       "    }\n",
       "\n",
       "    .dataframe tbody tr th {\n",
       "        vertical-align: top;\n",
       "    }\n",
       "</style>\n",
       "<table border=\"1\" class=\"dataframe\">\n",
       "  <thead>\n",
       "    <tr style=\"text-align: right;\">\n",
       "      <th></th>\n",
       "      <th>VendorID</th>\n",
       "      <th>lpep_pickup_datetime</th>\n",
       "      <th>Lpep_dropoff_datetime</th>\n",
       "      <th>Store_and_fwd_flag</th>\n",
       "      <th>RateCodeID</th>\n",
       "      <th>Pickup_longitude</th>\n",
       "      <th>Pickup_latitude</th>\n",
       "      <th>Dropoff_longitude</th>\n",
       "      <th>Dropoff_latitude</th>\n",
       "      <th>Passenger_count</th>\n",
       "      <th>...</th>\n",
       "      <th>Fare_amount</th>\n",
       "      <th>Extra</th>\n",
       "      <th>MTA_tax</th>\n",
       "      <th>Tip_amount</th>\n",
       "      <th>Tolls_amount</th>\n",
       "      <th>Ehail_fee</th>\n",
       "      <th>improvement_surcharge</th>\n",
       "      <th>Total_amount</th>\n",
       "      <th>Payment_type</th>\n",
       "      <th>Trip_type</th>\n",
       "    </tr>\n",
       "  </thead>\n",
       "  <tbody>\n",
       "    <tr>\n",
       "      <th>0</th>\n",
       "      <td>2</td>\n",
       "      <td>2015-09-01 00:02:34</td>\n",
       "      <td>2015-09-01 00:02:38</td>\n",
       "      <td>N</td>\n",
       "      <td>5</td>\n",
       "      <td>-73.979485</td>\n",
       "      <td>40.684956</td>\n",
       "      <td>-73.979431</td>\n",
       "      <td>40.685020</td>\n",
       "      <td>1</td>\n",
       "      <td>...</td>\n",
       "      <td>7.8</td>\n",
       "      <td>0.0</td>\n",
       "      <td>0.0</td>\n",
       "      <td>1.95</td>\n",
       "      <td>0.0</td>\n",
       "      <td>NaN</td>\n",
       "      <td>0.0</td>\n",
       "      <td>9.75</td>\n",
       "      <td>1</td>\n",
       "      <td>2.0</td>\n",
       "    </tr>\n",
       "    <tr>\n",
       "      <th>1</th>\n",
       "      <td>2</td>\n",
       "      <td>2015-09-01 00:04:20</td>\n",
       "      <td>2015-09-01 00:04:24</td>\n",
       "      <td>N</td>\n",
       "      <td>5</td>\n",
       "      <td>-74.010796</td>\n",
       "      <td>40.912216</td>\n",
       "      <td>-74.010780</td>\n",
       "      <td>40.912212</td>\n",
       "      <td>1</td>\n",
       "      <td>...</td>\n",
       "      <td>45.0</td>\n",
       "      <td>0.0</td>\n",
       "      <td>0.0</td>\n",
       "      <td>0.00</td>\n",
       "      <td>0.0</td>\n",
       "      <td>NaN</td>\n",
       "      <td>0.0</td>\n",
       "      <td>45.00</td>\n",
       "      <td>1</td>\n",
       "      <td>2.0</td>\n",
       "    </tr>\n",
       "    <tr>\n",
       "      <th>2</th>\n",
       "      <td>2</td>\n",
       "      <td>2015-09-01 00:01:50</td>\n",
       "      <td>2015-09-01 00:04:24</td>\n",
       "      <td>N</td>\n",
       "      <td>1</td>\n",
       "      <td>-73.921410</td>\n",
       "      <td>40.766708</td>\n",
       "      <td>-73.914413</td>\n",
       "      <td>40.764687</td>\n",
       "      <td>1</td>\n",
       "      <td>...</td>\n",
       "      <td>4.0</td>\n",
       "      <td>0.5</td>\n",
       "      <td>0.5</td>\n",
       "      <td>0.50</td>\n",
       "      <td>0.0</td>\n",
       "      <td>NaN</td>\n",
       "      <td>0.3</td>\n",
       "      <td>5.80</td>\n",
       "      <td>1</td>\n",
       "      <td>1.0</td>\n",
       "    </tr>\n",
       "    <tr>\n",
       "      <th>3</th>\n",
       "      <td>2</td>\n",
       "      <td>2015-09-01 00:02:36</td>\n",
       "      <td>2015-09-01 00:06:42</td>\n",
       "      <td>N</td>\n",
       "      <td>1</td>\n",
       "      <td>-73.921387</td>\n",
       "      <td>40.766678</td>\n",
       "      <td>-73.931427</td>\n",
       "      <td>40.771584</td>\n",
       "      <td>1</td>\n",
       "      <td>...</td>\n",
       "      <td>5.0</td>\n",
       "      <td>0.5</td>\n",
       "      <td>0.5</td>\n",
       "      <td>0.00</td>\n",
       "      <td>0.0</td>\n",
       "      <td>NaN</td>\n",
       "      <td>0.3</td>\n",
       "      <td>6.30</td>\n",
       "      <td>2</td>\n",
       "      <td>1.0</td>\n",
       "    </tr>\n",
       "    <tr>\n",
       "      <th>4</th>\n",
       "      <td>2</td>\n",
       "      <td>2015-09-01 00:00:14</td>\n",
       "      <td>2015-09-01 00:04:20</td>\n",
       "      <td>N</td>\n",
       "      <td>1</td>\n",
       "      <td>-73.955482</td>\n",
       "      <td>40.714046</td>\n",
       "      <td>-73.944412</td>\n",
       "      <td>40.714729</td>\n",
       "      <td>1</td>\n",
       "      <td>...</td>\n",
       "      <td>5.0</td>\n",
       "      <td>0.5</td>\n",
       "      <td>0.5</td>\n",
       "      <td>0.00</td>\n",
       "      <td>0.0</td>\n",
       "      <td>NaN</td>\n",
       "      <td>0.3</td>\n",
       "      <td>6.30</td>\n",
       "      <td>2</td>\n",
       "      <td>1.0</td>\n",
       "    </tr>\n",
       "  </tbody>\n",
       "</table>\n",
       "<p>5 rows × 21 columns</p>\n",
       "</div>"
      ],
      "text/plain": [
       "   VendorID lpep_pickup_datetime Lpep_dropoff_datetime Store_and_fwd_flag  \\\n",
       "0         2  2015-09-01 00:02:34   2015-09-01 00:02:38                  N   \n",
       "1         2  2015-09-01 00:04:20   2015-09-01 00:04:24                  N   \n",
       "2         2  2015-09-01 00:01:50   2015-09-01 00:04:24                  N   \n",
       "3         2  2015-09-01 00:02:36   2015-09-01 00:06:42                  N   \n",
       "4         2  2015-09-01 00:00:14   2015-09-01 00:04:20                  N   \n",
       "\n",
       "   RateCodeID  Pickup_longitude  Pickup_latitude  Dropoff_longitude  \\\n",
       "0           5        -73.979485        40.684956         -73.979431   \n",
       "1           5        -74.010796        40.912216         -74.010780   \n",
       "2           1        -73.921410        40.766708         -73.914413   \n",
       "3           1        -73.921387        40.766678         -73.931427   \n",
       "4           1        -73.955482        40.714046         -73.944412   \n",
       "\n",
       "   Dropoff_latitude  Passenger_count     ...      Fare_amount  Extra  MTA_tax  \\\n",
       "0         40.685020                1     ...              7.8    0.0      0.0   \n",
       "1         40.912212                1     ...             45.0    0.0      0.0   \n",
       "2         40.764687                1     ...              4.0    0.5      0.5   \n",
       "3         40.771584                1     ...              5.0    0.5      0.5   \n",
       "4         40.714729                1     ...              5.0    0.5      0.5   \n",
       "\n",
       "   Tip_amount  Tolls_amount  Ehail_fee  improvement_surcharge  Total_amount  \\\n",
       "0        1.95           0.0        NaN                    0.0          9.75   \n",
       "1        0.00           0.0        NaN                    0.0         45.00   \n",
       "2        0.50           0.0        NaN                    0.3          5.80   \n",
       "3        0.00           0.0        NaN                    0.3          6.30   \n",
       "4        0.00           0.0        NaN                    0.3          6.30   \n",
       "\n",
       "   Payment_type  Trip_type   \n",
       "0             1         2.0  \n",
       "1             1         2.0  \n",
       "2             1         1.0  \n",
       "3             2         1.0  \n",
       "4             2         1.0  \n",
       "\n",
       "[5 rows x 21 columns]"
      ]
     },
     "execution_count": 3,
     "metadata": {},
     "output_type": "execute_result"
    }
   ],
   "source": [
    "print('The dataset has {:,} rows and {:,} columns.'.format(data.shape[0], data.shape[1]), '\\n')\n",
    "print('The dataset has following features: \\n', list(data.columns), '\\n')\n",
    "print('Overview of the dataset:')\n",
    "data.head()"
   ]
  },
  {
   "cell_type": "markdown",
   "metadata": {},
   "source": [
    "# Question 2"
   ]
  },
  {
   "cell_type": "markdown",
   "metadata": {},
   "source": [
    "#### Histogram of trip distance"
   ]
  },
  {
   "cell_type": "code",
   "execution_count": 4,
   "metadata": {},
   "outputs": [
    {
     "data": {
      "image/png": "[encoded data removed]",
      "text/plain": [
       "<matplotlib.figure.Figure at 0x10b928f60>"
      ]
     },
     "metadata": {},
     "output_type": "display_data"
    }
   ],
   "source": [
    "plt.figure(figsize=(18,8))\n",
    "sns.distplot(data['Trip_distance'], kde=True, bins=200)\n",
    "plt.show()"
   ]
  },
  {
   "cell_type": "markdown",
   "metadata": {},
   "source": [
    "We can see from the graph above which does not provide much useful insight. <br>\n",
    "Now we look at its basic stats and draw another histogram."
   ]
  },
  {
   "cell_type": "code",
   "execution_count": 5,
   "metadata": {},
   "outputs": [
    {
     "name": "stdout",
     "output_type": "stream",
     "text": [
      "The number of trips with distance greater than 45 miles is: 3364\n",
      "Which is 0.225028% of the whole dataset.\n"
     ]
    }
   ],
   "source": [
    "data['Trip_distance'].describe()\n",
    "trip_d = len(data['Trip_distance'].loc[data['Trip_distance'] > 20])\n",
    "print('The number of trips with distance greater than 45 miles is: {}'.format(trip_d))\n",
    "print('Which is {:4f}% of the whole dataset.'.format(trip_d/len(data['Trip_distance'])*100))"
   ]
  },
  {
   "cell_type": "markdown",
   "metadata": {},
   "source": [
    "Trip distance which is greater than 20 miles will be igonre for better visualization. <br>\n",
    "The proportion ignored is extremely small so that it will not hurt our understanding of the data."
   ]
  },
  {
   "cell_type": "code",
   "execution_count": 6,
   "metadata": {},
   "outputs": [
    {
     "data": {
      "image/png": "[encoded data removed]",
      "text/plain": [
       "<matplotlib.figure.Figure at 0x1c2a65e8d0>"
      ]
     },
     "metadata": {},
     "output_type": "display_data"
    }
   ],
   "source": [
    "less_20 = data['Trip_distance'].loc[data['Trip_distance'] < 20]\n",
    "\n",
    "plt.figure(figsize=(18,6))\n",
    "sns.distplot(less_20, kde=True, bins=100)\n",
    "plt.show()"
   ]
  },
  {
   "cell_type": "markdown",
   "metadata": {
    "collapsed": true
   },
   "source": [
    "### Hypothesis\n",
    "\n",
    "We observe that this variable has a long tail on the right side so it is reasonable to doubt if this variable is positively skewed. <br>\n",
    "To test if it is positively skewed, a hypothesis is needed.<br>\n",
    "We can conduct Kolmogorov-Smirnov test (K-S) and Shapiro-Wilk (S-W) test.<br>\n",
    "The null hypothesis(H0) is: the data is not skewed, and the alternative hypothesis(H1) is: the data is skewed.<br>\n",
    "Using confidence level of 95%, if the P-value is less than 0.05, then we will reject the null and accpet alternative which means the data is skewed.\n",
    "\n",
    "If the data is skewed, log transformation may be needed since our assumption is that data is normally distributed."
   ]
  },
  {
   "cell_type": "code",
   "execution_count": 7,
   "metadata": {},
   "outputs": [
    {
     "data": {
      "text/plain": [
       "KstestResult(statistic=0.65223445524177803, pvalue=0.0)"
      ]
     },
     "execution_count": 7,
     "metadata": {},
     "output_type": "execute_result"
    }
   ],
   "source": [
    "kstest(data['Trip_distance'], 'norm')"
   ]
  },
  {
   "cell_type": "markdown",
   "metadata": {},
   "source": [
    "The above is using K-S test to see if the data is skewed. As we can see the p-value is close to 0 which means it reject null hypothesis and accept alternative. <br>\n",
    "The distribution of this variable is skewed."
   ]
  },
  {
   "cell_type": "markdown",
   "metadata": {},
   "source": [
    "# Question 3"
   ]
  },
  {
   "cell_type": "markdown",
   "metadata": {},
   "source": [
    "### Mean and Median trip distance based on hour of day"
   ]
  },
  {
   "cell_type": "code",
   "execution_count": 8,
   "metadata": {},
   "outputs": [
    {
     "data": {
      "text/html": [
       "<div>\n",
       "<style>\n",
       "    .dataframe thead tr:only-child th {\n",
       "        text-align: right;\n",
       "    }\n",
       "\n",
       "    .dataframe thead th {\n",
       "        text-align: left;\n",
       "    }\n",
       "\n",
       "    .dataframe tbody tr th {\n",
       "        vertical-align: top;\n",
       "    }\n",
       "</style>\n",
       "<table border=\"1\" class=\"dataframe\">\n",
       "  <thead>\n",
       "    <tr style=\"text-align: right;\">\n",
       "      <th></th>\n",
       "      <th>mean</th>\n",
       "      <th>median</th>\n",
       "    </tr>\n",
       "    <tr>\n",
       "      <th>lpep_pickup_datetime</th>\n",
       "      <th></th>\n",
       "      <th></th>\n",
       "    </tr>\n",
       "  </thead>\n",
       "  <tbody>\n",
       "    <tr>\n",
       "      <th>0</th>\n",
       "      <td>3.115276</td>\n",
       "      <td>2.20</td>\n",
       "    </tr>\n",
       "    <tr>\n",
       "      <th>1</th>\n",
       "      <td>3.017347</td>\n",
       "      <td>2.12</td>\n",
       "    </tr>\n",
       "    <tr>\n",
       "      <th>2</th>\n",
       "      <td>3.046176</td>\n",
       "      <td>2.14</td>\n",
       "    </tr>\n",
       "    <tr>\n",
       "      <th>3</th>\n",
       "      <td>3.212945</td>\n",
       "      <td>2.20</td>\n",
       "    </tr>\n",
       "    <tr>\n",
       "      <th>4</th>\n",
       "      <td>3.526555</td>\n",
       "      <td>2.36</td>\n",
       "    </tr>\n",
       "    <tr>\n",
       "      <th>5</th>\n",
       "      <td>4.133474</td>\n",
       "      <td>2.90</td>\n",
       "    </tr>\n",
       "    <tr>\n",
       "      <th>6</th>\n",
       "      <td>4.055149</td>\n",
       "      <td>2.84</td>\n",
       "    </tr>\n",
       "    <tr>\n",
       "      <th>7</th>\n",
       "      <td>3.284394</td>\n",
       "      <td>2.17</td>\n",
       "    </tr>\n",
       "    <tr>\n",
       "      <th>8</th>\n",
       "      <td>3.048450</td>\n",
       "      <td>1.98</td>\n",
       "    </tr>\n",
       "    <tr>\n",
       "      <th>9</th>\n",
       "      <td>2.999105</td>\n",
       "      <td>1.96</td>\n",
       "    </tr>\n",
       "    <tr>\n",
       "      <th>10</th>\n",
       "      <td>2.944482</td>\n",
       "      <td>1.92</td>\n",
       "    </tr>\n",
       "    <tr>\n",
       "      <th>11</th>\n",
       "      <td>2.912015</td>\n",
       "      <td>1.88</td>\n",
       "    </tr>\n",
       "    <tr>\n",
       "      <th>12</th>\n",
       "      <td>2.903065</td>\n",
       "      <td>1.89</td>\n",
       "    </tr>\n",
       "    <tr>\n",
       "      <th>13</th>\n",
       "      <td>2.878294</td>\n",
       "      <td>1.84</td>\n",
       "    </tr>\n",
       "    <tr>\n",
       "      <th>14</th>\n",
       "      <td>2.864304</td>\n",
       "      <td>1.83</td>\n",
       "    </tr>\n",
       "    <tr>\n",
       "      <th>15</th>\n",
       "      <td>2.857040</td>\n",
       "      <td>1.81</td>\n",
       "    </tr>\n",
       "    <tr>\n",
       "      <th>16</th>\n",
       "      <td>2.779852</td>\n",
       "      <td>1.80</td>\n",
       "    </tr>\n",
       "    <tr>\n",
       "      <th>17</th>\n",
       "      <td>2.679114</td>\n",
       "      <td>1.78</td>\n",
       "    </tr>\n",
       "    <tr>\n",
       "      <th>18</th>\n",
       "      <td>2.653222</td>\n",
       "      <td>1.80</td>\n",
       "    </tr>\n",
       "    <tr>\n",
       "      <th>19</th>\n",
       "      <td>2.715597</td>\n",
       "      <td>1.85</td>\n",
       "    </tr>\n",
       "    <tr>\n",
       "      <th>20</th>\n",
       "      <td>2.777052</td>\n",
       "      <td>1.90</td>\n",
       "    </tr>\n",
       "    <tr>\n",
       "      <th>21</th>\n",
       "      <td>2.999189</td>\n",
       "      <td>2.03</td>\n",
       "    </tr>\n",
       "    <tr>\n",
       "      <th>22</th>\n",
       "      <td>3.185394</td>\n",
       "      <td>2.20</td>\n",
       "    </tr>\n",
       "    <tr>\n",
       "      <th>23</th>\n",
       "      <td>3.191538</td>\n",
       "      <td>2.22</td>\n",
       "    </tr>\n",
       "  </tbody>\n",
       "</table>\n",
       "</div>"
      ],
      "text/plain": [
       "                          mean  median\n",
       "lpep_pickup_datetime                  \n",
       "0                     3.115276    2.20\n",
       "1                     3.017347    2.12\n",
       "2                     3.046176    2.14\n",
       "3                     3.212945    2.20\n",
       "4                     3.526555    2.36\n",
       "5                     4.133474    2.90\n",
       "6                     4.055149    2.84\n",
       "7                     3.284394    2.17\n",
       "8                     3.048450    1.98\n",
       "9                     2.999105    1.96\n",
       "10                    2.944482    1.92\n",
       "11                    2.912015    1.88\n",
       "12                    2.903065    1.89\n",
       "13                    2.878294    1.84\n",
       "14                    2.864304    1.83\n",
       "15                    2.857040    1.81\n",
       "16                    2.779852    1.80\n",
       "17                    2.679114    1.78\n",
       "18                    2.653222    1.80\n",
       "19                    2.715597    1.85\n",
       "20                    2.777052    1.90\n",
       "21                    2.999189    2.03\n",
       "22                    3.185394    2.20\n",
       "23                    3.191538    2.22"
      ]
     },
     "execution_count": 8,
     "metadata": {},
     "output_type": "execute_result"
    }
   ],
   "source": [
    "mean_hour = data[['Trip_distance', 'lpep_pickup_datetime']].groupby(data['lpep_pickup_datetime'].dt.hour).mean()\n",
    "median_hour = data[['Trip_distance', 'lpep_pickup_datetime']].groupby(data['lpep_pickup_datetime'].dt.hour).median()\n",
    "trip_byhour = pd.concat([mean_hour, median_hour], axis=1)\n",
    "trip_byhour.columns = ['mean', 'median']\n",
    "trip_byhour"
   ]
  },
  {
   "cell_type": "code",
   "execution_count": 9,
   "metadata": {},
   "outputs": [
    {
     "data": {
      "image/png": "[encoded data removed]",
      "text/plain": [
       "<matplotlib.figure.Figure at 0x10b9289e8>"
      ]
     },
     "metadata": {},
     "output_type": "display_data"
    }
   ],
   "source": [
    "trip_byhour.plot(kind='bar', figsize=(15,4))\n",
    "plt.show()"
   ]
  },
  {
   "cell_type": "markdown",
   "metadata": {},
   "source": [
    "Above is the trip distance grouped by hour of day.<br>\n",
    "As it shown here, long trips mostly happen from 5-7 am, and the rest of time have samilar pattern."
   ]
  },
  {
   "cell_type": "markdown",
   "metadata": {},
   "source": [
    "### Trips near Airport\n",
    "\n",
    "#### The John F Kennedy International Airport (JFK) coordinate is 40.6413° N, 73.7781° W\n",
    "We will compute the distance from both originate or terminate to the airport and count how many trips are near airport as well as showing the average fare.\n",
    "\n",
    "Here is to compute the distance using **geopy vincenty distance**. If distance is less than **2** miles, it will be counted as originate or terminate at the airport."
   ]
  },
  {
   "cell_type": "code",
   "execution_count": 10,
   "metadata": {
    "collapsed": true
   },
   "outputs": [],
   "source": [
    "lat, long = 40.6413, -73.7781\n",
    "pickup_lat, pickup_lon = data['Pickup_latitude'],data['Pickup_longitude']\n",
    "drop_lat, drop_lon = data['Dropoff_latitude'],data['Dropoff_longitude']"
   ]
  },
  {
   "cell_type": "code",
   "execution_count": 11,
   "metadata": {
    "collapsed": true
   },
   "outputs": [],
   "source": [
    "pick_air = []\n",
    "for a, b in zip(pickup_lat, pickup_lon):\n",
    "    dis = vincenty((a,b), (lat,long)).miles\n",
    "    pick_air.append(dis)\n",
    "    \n",
    "drop_air = []\n",
    "for c, d in zip(drop_lat, drop_lon):\n",
    "    dis = vincenty((c,d), (lat, long)).miles\n",
    "    drop_air.append(dis)"
   ]
  },
  {
   "cell_type": "code",
   "execution_count": 12,
   "metadata": {},
   "outputs": [
    {
     "name": "stdout",
     "output_type": "stream",
     "text": [
      "There are 3 trips originate from airport have fare below 0 so it will be deleted.\n",
      "There are 3 trips terminate at airport have fare below 0 so it will be deleted. \n",
      "\n",
      "Trips starting from airport have average 33.26 fare.\n",
      "Trips ending at aiprot have average 39.97 fare.\n"
     ]
    }
   ],
   "source": [
    "pick_air, drop_air = pd.Series(pick_air), pd.Series(drop_air)\n",
    "data['pick_air'], data['drop_air'] = pick_air, drop_air\n",
    "\n",
    "start_air = np.array(data[['Fare_amount']].loc[data['pick_air'] < 2 ])\n",
    "end_air   = np.array(data[['Fare_amount']].loc[data['drop_air'] < 2 ])\n",
    "\n",
    "print('There are {} trips originate from airport have fare below 0 so it will be deleted.'.format((start_air<0).sum()))\n",
    "print('There are {} trips terminate at airport have fare below 0 so it will be deleted. \\n'.format((end_air<0).sum()))\n",
    "\n",
    "start_air = np.delete(start_air, np.where(start_air < 0)[0])\n",
    "end_air = np.delete(end_air, np.where(end_air < 0)[0])\n",
    "\n",
    "print('Trips starting from airport have average {:.2f} fare.'.format(start_air.mean()))\n",
    "print('Trips ending at aiprot have average {:.2f} fare.'.format(end_air.mean()))"
   ]
  },
  {
   "cell_type": "markdown",
   "metadata": {},
   "source": [
    "#### Distribution of fare where originate or terminate at airport."
   ]
  },
  {
   "cell_type": "code",
   "execution_count": 13,
   "metadata": {},
   "outputs": [
    {
     "data": {
      "image/png": "[encoded data removed]",
      "text/plain": [
       "<matplotlib.figure.Figure at 0x10b4bb860>"
      ]
     },
     "metadata": {},
     "output_type": "display_data"
    }
   ],
   "source": [
    "air = np.concatenate((start_air, end_air))\n",
    "plt.figure(figsize=(16,4))\n",
    "sns.distplot(air)\n",
    "plt.show()"
   ]
  },
  {
   "cell_type": "markdown",
   "metadata": {},
   "source": [
    "#### Another finding: originate and terminate at airport based on hour of day"
   ]
  },
  {
   "cell_type": "code",
   "execution_count": 14,
   "metadata": {},
   "outputs": [
    {
     "data": {
      "text/html": [
       "<div>\n",
       "<style>\n",
       "    .dataframe thead tr:only-child th {\n",
       "        text-align: right;\n",
       "    }\n",
       "\n",
       "    .dataframe thead th {\n",
       "        text-align: left;\n",
       "    }\n",
       "\n",
       "    .dataframe tbody tr th {\n",
       "        vertical-align: top;\n",
       "    }\n",
       "</style>\n",
       "<table border=\"1\" class=\"dataframe\">\n",
       "  <thead>\n",
       "    <tr style=\"text-align: right;\">\n",
       "      <th></th>\n",
       "      <th>lpep_pickup_datetime</th>\n",
       "      <th>Lpep_dropoff_datetime</th>\n",
       "    </tr>\n",
       "  </thead>\n",
       "  <tbody>\n",
       "    <tr>\n",
       "      <th>0</th>\n",
       "      <td>10</td>\n",
       "      <td>128</td>\n",
       "    </tr>\n",
       "    <tr>\n",
       "      <th>1</th>\n",
       "      <td>7</td>\n",
       "      <td>57</td>\n",
       "    </tr>\n",
       "    <tr>\n",
       "      <th>2</th>\n",
       "      <td>4</td>\n",
       "      <td>56</td>\n",
       "    </tr>\n",
       "    <tr>\n",
       "      <th>3</th>\n",
       "      <td>7</td>\n",
       "      <td>114</td>\n",
       "    </tr>\n",
       "    <tr>\n",
       "      <th>4</th>\n",
       "      <td>7</td>\n",
       "      <td>283</td>\n",
       "    </tr>\n",
       "    <tr>\n",
       "      <th>5</th>\n",
       "      <td>16</td>\n",
       "      <td>651</td>\n",
       "    </tr>\n",
       "    <tr>\n",
       "      <th>6</th>\n",
       "      <td>23</td>\n",
       "      <td>739</td>\n",
       "    </tr>\n",
       "    <tr>\n",
       "      <th>7</th>\n",
       "      <td>16</td>\n",
       "      <td>733</td>\n",
       "    </tr>\n",
       "    <tr>\n",
       "      <th>8</th>\n",
       "      <td>15</td>\n",
       "      <td>656</td>\n",
       "    </tr>\n",
       "    <tr>\n",
       "      <th>9</th>\n",
       "      <td>24</td>\n",
       "      <td>771</td>\n",
       "    </tr>\n",
       "    <tr>\n",
       "      <th>10</th>\n",
       "      <td>17</td>\n",
       "      <td>646</td>\n",
       "    </tr>\n",
       "    <tr>\n",
       "      <th>11</th>\n",
       "      <td>20</td>\n",
       "      <td>639</td>\n",
       "    </tr>\n",
       "    <tr>\n",
       "      <th>12</th>\n",
       "      <td>36</td>\n",
       "      <td>668</td>\n",
       "    </tr>\n",
       "    <tr>\n",
       "      <th>13</th>\n",
       "      <td>35</td>\n",
       "      <td>708</td>\n",
       "    </tr>\n",
       "    <tr>\n",
       "      <th>14</th>\n",
       "      <td>33</td>\n",
       "      <td>839</td>\n",
       "    </tr>\n",
       "    <tr>\n",
       "      <th>15</th>\n",
       "      <td>26</td>\n",
       "      <td>991</td>\n",
       "    </tr>\n",
       "    <tr>\n",
       "      <th>16</th>\n",
       "      <td>37</td>\n",
       "      <td>1145</td>\n",
       "    </tr>\n",
       "    <tr>\n",
       "      <th>17</th>\n",
       "      <td>27</td>\n",
       "      <td>1077</td>\n",
       "    </tr>\n",
       "    <tr>\n",
       "      <th>18</th>\n",
       "      <td>26</td>\n",
       "      <td>1021</td>\n",
       "    </tr>\n",
       "    <tr>\n",
       "      <th>19</th>\n",
       "      <td>23</td>\n",
       "      <td>898</td>\n",
       "    </tr>\n",
       "    <tr>\n",
       "      <th>20</th>\n",
       "      <td>21</td>\n",
       "      <td>585</td>\n",
       "    </tr>\n",
       "    <tr>\n",
       "      <th>21</th>\n",
       "      <td>17</td>\n",
       "      <td>436</td>\n",
       "    </tr>\n",
       "    <tr>\n",
       "      <th>22</th>\n",
       "      <td>10</td>\n",
       "      <td>244</td>\n",
       "    </tr>\n",
       "    <tr>\n",
       "      <th>23</th>\n",
       "      <td>8</td>\n",
       "      <td>154</td>\n",
       "    </tr>\n",
       "  </tbody>\n",
       "</table>\n",
       "</div>"
      ],
      "text/plain": [
       "    lpep_pickup_datetime  Lpep_dropoff_datetime\n",
       "0                     10                    128\n",
       "1                      7                     57\n",
       "2                      4                     56\n",
       "3                      7                    114\n",
       "4                      7                    283\n",
       "5                     16                    651\n",
       "6                     23                    739\n",
       "7                     16                    733\n",
       "8                     15                    656\n",
       "9                     24                    771\n",
       "10                    17                    646\n",
       "11                    20                    639\n",
       "12                    36                    668\n",
       "13                    35                    708\n",
       "14                    33                    839\n",
       "15                    26                    991\n",
       "16                    37                   1145\n",
       "17                    27                   1077\n",
       "18                    26                   1021\n",
       "19                    23                    898\n",
       "20                    21                    585\n",
       "21                    17                    436\n",
       "22                    10                    244\n",
       "23                     8                    154"
      ]
     },
     "execution_count": 14,
     "metadata": {},
     "output_type": "execute_result"
    }
   ],
   "source": [
    "start_hour = data[['lpep_pickup_datetime']].loc[data['pick_air'] < 2] \n",
    "end_hour   = data[['Lpep_dropoff_datetime']].loc[data['drop_air'] < 2 ]\n",
    "\n",
    "sh = start_hour.groupby(start_hour['lpep_pickup_datetime'].dt.hour).count()\n",
    "eh = end_hour.groupby(end_hour['Lpep_dropoff_datetime'].dt.hour).count()\n",
    "seh= pd.concat([sh, eh], axis=1)\n",
    "seh"
   ]
  },
  {
   "cell_type": "code",
   "execution_count": 15,
   "metadata": {},
   "outputs": [
    {
     "data": {
      "image/png": "[encoded data removed]",
      "text/plain": [
       "<matplotlib.figure.Figure at 0x1c27887eb8>"
      ]
     },
     "metadata": {},
     "output_type": "display_data"
    }
   ],
   "source": [
    "seh.plot(kind='bar', figsize=(18,5))\n",
    "plt.show()"
   ]
  },
  {
   "cell_type": "markdown",
   "metadata": {},
   "source": [
    "# Question 4\n",
    "\n",
    "Here we extract only tip amount is greater than 0.5 since there are too many zero tips. <br>\n",
    "The reason is that there so many trips having total amount equals to zero, trip distance equals to zero which create infinite numbers while calculating tip amount.<br>"
   ]
  },
  {
   "cell_type": "markdown",
   "metadata": {},
   "source": [
    "#### Adding variable indicating percentage of Total Amount"
   ]
  },
  {
   "cell_type": "code",
   "execution_count": 16,
   "metadata": {
    "collapsed": true
   },
   "outputs": [],
   "source": [
    "tip_data = data.copy()\n",
    "tip_data = tip_data.loc[tip_data['Tip_amount'] > 0.5]\n",
    "tip_data['Tip_percent'] = tip_data['Tip_amount'] / tip_data['Total_amount']"
   ]
  },
  {
   "cell_type": "code",
   "execution_count": 17,
   "metadata": {
    "collapsed": true
   },
   "outputs": [],
   "source": [
    "tip_var = ['lpep_pickup_datetime', 'Lpep_dropoff_datetime', 'RateCodeID', 'Passenger_count', 'Trip_distance', \n",
    "           'Fare_amount', 'Extra', 'MTA_tax', 'Tolls_amount', 'improvement_surcharge', 'Trip_type ', 'Tip_percent']\n",
    "tip_data = tip_data[tip_var]\n",
    "\n",
    "\n",
    "tip_data['Trip_duration'] = (tip_data['Lpep_dropoff_datetime'] - tip_data['lpep_pickup_datetime'])\n",
    "def to_sec(min):\n",
    "    return min.total_seconds()\n",
    "tip_data['Trip_duration'] = tip_data['Trip_duration'].apply(to_sec)\n",
    "tip_data.drop(['lpep_pickup_datetime', 'Lpep_dropoff_datetime'], axis=1, inplace=True)\n",
    "\n",
    "# create dummy variable for RateCodeId andpayment type and fill NA\n",
    "rateid = pd.get_dummies(tip_data['RateCodeID'], drop_first=True, prefix='RateID')\n",
    "tip_data = pd.concat([tip_data, rateid], axis=1)\n",
    "tip_data.drop(['RateCodeID'], axis=1, inplace=True)\n",
    "tip_data['Trip_type '] = tip_data['Trip_type '].fillna(value=1)"
   ]
  },
  {
   "cell_type": "code",
   "execution_count": 18,
   "metadata": {},
   "outputs": [
    {
     "name": "stdout",
     "output_type": "stream",
     "text": [
      "                            OLS Regression Results                            \n",
      "==============================================================================\n",
      "Dep. Variable:            Tip_percent   R-squared:                       0.029\n",
      "Model:                            OLS   Adj. R-squared:                  0.029\n",
      "Method:                 Least Squares   F-statistic:                     1019.\n",
      "Date:                Fri, 03 Nov 2017   Prob (F-statistic):               0.00\n",
      "Time:                        22:51:09   Log-Likelihood:             6.5962e+05\n",
      "No. Observations:              447726   AIC:                        -1.319e+06\n",
      "Df Residuals:                  447712   BIC:                        -1.319e+06\n",
      "Df Model:                          13                                         \n",
      "Covariance Type:            nonrobust                                         \n",
      "=========================================================================================\n",
      "                            coef    std err          t      P>|t|      [0.025      0.975]\n",
      "-----------------------------------------------------------------------------------------\n",
      "const                     0.1275      0.016      7.842      0.000       0.096       0.159\n",
      "Passenger_count           0.0003   7.93e-05      3.792      0.000       0.000       0.000\n",
      "Trip_distance             0.0007    6.3e-05     11.844      0.000       0.001       0.001\n",
      "Fare_amount              -0.0011   2.01e-05    -56.365      0.000      -0.001      -0.001\n",
      "Extra                    -0.0013      0.000     -5.806      0.000      -0.002      -0.001\n",
      "MTA_tax                   0.0893      0.017      5.248      0.000       0.056       0.123\n",
      "Tolls_amount              0.0002   8.54e-05      2.404      0.016    3.79e-05       0.000\n",
      "improvement_surcharge    -0.0976      0.011     -9.012      0.000      -0.119      -0.076\n",
      "Trip_type                 0.0364      0.008      4.607      0.000       0.021       0.052\n",
      "Trip_duration         -2.079e-07   1.75e-08    -11.845      0.000   -2.42e-07   -1.73e-07\n",
      "RateID_2                  0.0275      0.002     16.453      0.000       0.024       0.031\n",
      "RateID_3                  0.0888      0.009      9.735      0.000       0.071       0.107\n",
      "RateID_4                  0.0345      0.003     10.413      0.000       0.028       0.041\n",
      "RateID_5                  0.0251      0.005      5.097      0.000       0.015       0.035\n",
      "==============================================================================\n",
      "Omnibus:                   432490.063   Durbin-Watson:                   1.999\n",
      "Prob(Omnibus):                  0.000   Jarque-Bera (JB):         48175874.002\n",
      "Skew:                           4.425   Prob(JB):                         0.00\n",
      "Kurtosis:                      53.041   Cond. No.                     1.51e+06\n",
      "==============================================================================\n",
      "\n",
      "Warnings:\n",
      "[1] Standard Errors assume that the covariance matrix of the errors is correctly specified.\n",
      "[2] The condition number is large, 1.51e+06. This might indicate that there are\n",
      "strong multicollinearity or other numerical problems.\n"
     ]
    }
   ],
   "source": [
    "x, x_test, y, y_test = train_test_split(tip_data.drop(['Tip_percent'], axis=1), tip_data['Tip_percent'])\n",
    "\n",
    "x_cons = sm.add_constant(x)\n",
    "line_reg = sm.OLS(y, x_cons).fit()\n",
    "print(line_reg.summary())"
   ]
  },
  {
   "cell_type": "markdown",
   "metadata": {},
   "source": [
    "As we can see here that the R-squared is too small to make this regression meaningful, there are severeal reasons.<br>\n",
    "First of all, the data has not cleaned well, there are too many unusual trips having extrem numbers.\n",
    "Secondly, tip amount may not be presented effectively. Many tips are very small.<br>\n",
    "Based on these findings, I would conclude that tip amount is given by random. Customers giving tips are not based fare amount of trip distance. Therefore, I could not find much linear pattern here."
   ]
  },
  {
   "cell_type": "markdown",
   "metadata": {},
   "source": [
    "# Question 5 Option A"
   ]
  },
  {
   "cell_type": "markdown",
   "metadata": {},
   "source": [
    "#### Speed by date of the month"
   ]
  },
  {
   "cell_type": "code",
   "execution_count": 19,
   "metadata": {
    "collapsed": true
   },
   "outputs": [],
   "source": [
    "data['Trip_duration'] = (data['Lpep_dropoff_datetime'] - data['lpep_pickup_datetime'])\n",
    "data['Trip_duration'] = data['Trip_duration'].apply(to_sec)\n",
    "data['speed'] = data['Trip_distance'] / (data['Trip_duration'] + 0.1) * 3600"
   ]
  },
  {
   "cell_type": "code",
   "execution_count": 20,
   "metadata": {},
   "outputs": [
    {
     "data": {
      "text/html": [
       "<div>\n",
       "<style>\n",
       "    .dataframe thead tr:only-child th {\n",
       "        text-align: right;\n",
       "    }\n",
       "\n",
       "    .dataframe thead th {\n",
       "        text-align: left;\n",
       "    }\n",
       "\n",
       "    .dataframe tbody tr th {\n",
       "        vertical-align: top;\n",
       "    }\n",
       "</style>\n",
       "<table border=\"1\" class=\"dataframe\">\n",
       "  <thead>\n",
       "    <tr style=\"text-align: right;\">\n",
       "      <th>day_month</th>\n",
       "      <th>1</th>\n",
       "      <th>2</th>\n",
       "      <th>3</th>\n",
       "      <th>4</th>\n",
       "      <th>5</th>\n",
       "      <th>6</th>\n",
       "      <th>7</th>\n",
       "      <th>8</th>\n",
       "      <th>9</th>\n",
       "      <th>10</th>\n",
       "      <th>...</th>\n",
       "      <th>21</th>\n",
       "      <th>22</th>\n",
       "      <th>23</th>\n",
       "      <th>24</th>\n",
       "      <th>25</th>\n",
       "      <th>26</th>\n",
       "      <th>27</th>\n",
       "      <th>28</th>\n",
       "      <th>29</th>\n",
       "      <th>30</th>\n",
       "    </tr>\n",
       "  </thead>\n",
       "  <tbody>\n",
       "    <tr>\n",
       "      <th>speed</th>\n",
       "      <td>18.699541</td>\n",
       "      <td>36.052427</td>\n",
       "      <td>14.790572</td>\n",
       "      <td>20.68003</td>\n",
       "      <td>19.197536</td>\n",
       "      <td>39.530715</td>\n",
       "      <td>25.597709</td>\n",
       "      <td>29.225979</td>\n",
       "      <td>58.050735</td>\n",
       "      <td>44.454676</td>\n",
       "      <td>...</td>\n",
       "      <td>69.096724</td>\n",
       "      <td>22.053775</td>\n",
       "      <td>19.491488</td>\n",
       "      <td>18.777359</td>\n",
       "      <td>29.995324</td>\n",
       "      <td>27.088563</td>\n",
       "      <td>45.649113</td>\n",
       "      <td>51.541058</td>\n",
       "      <td>27.776031</td>\n",
       "      <td>109.641416</td>\n",
       "    </tr>\n",
       "  </tbody>\n",
       "</table>\n",
       "<p>1 rows × 30 columns</p>\n",
       "</div>"
      ],
      "text/plain": [
       "day_month         1          2          3         4          5          6   \\\n",
       "speed      18.699541  36.052427  14.790572  20.68003  19.197536  39.530715   \n",
       "\n",
       "day_month         7          8          9          10     ...             21  \\\n",
       "speed      25.597709  29.225979  58.050735  44.454676     ...      69.096724   \n",
       "\n",
       "day_month         22         23         24         25         26         27  \\\n",
       "speed      22.053775  19.491488  18.777359  29.995324  27.088563  45.649113   \n",
       "\n",
       "day_month         28         29          30  \n",
       "speed      51.541058  27.776031  109.641416  \n",
       "\n",
       "[1 rows x 30 columns]"
      ]
     },
     "execution_count": 20,
     "metadata": {},
     "output_type": "execute_result"
    }
   ],
   "source": [
    "def to_weekday(day):\n",
    "    return day.weekday()\n",
    "data['day_week'] = data['lpep_pickup_datetime'].apply(to_weekday)\n",
    "data['day_week'] = data['day_week'] +1\n",
    "\n",
    "def to_monthday(day):\n",
    "    return day.day\n",
    "data['day_month'] = data['lpep_pickup_datetime'].apply(to_monthday)\n",
    "data[['day_month', 'speed']].groupby(['day_month']).mean().T"
   ]
  },
  {
   "cell_type": "markdown",
   "metadata": {},
   "source": [
    "The following plot shows the average spped on each day in September"
   ]
  },
  {
   "cell_type": "code",
   "execution_count": 21,
   "metadata": {},
   "outputs": [
    {
     "data": {
      "image/png": "[encoded data removed]",
      "text/plain": [
       "<matplotlib.figure.Figure at 0x1c278dd9e8>"
      ]
     },
     "metadata": {},
     "output_type": "display_data"
    }
   ],
   "source": [
    "data[['day_month', 'speed']].groupby(['day_month']).mean().plot(kind='bar', figsize=(16,5))\n",
    "plt.show()"
   ]
  },
  {
   "cell_type": "markdown",
   "metadata": {},
   "source": [
    "#### Speed by weeks of the month\n",
    "there are 5 weeks in September"
   ]
  },
  {
   "cell_type": "code",
   "execution_count": 22,
   "metadata": {},
   "outputs": [
    {
     "name": "stdout",
     "output_type": "stream",
     "text": [
      "week           1          2          3          4          5\n",
      "speed  21.545474  37.698545  38.055538  30.021428  58.744933\n"
     ]
    },
    {
     "data": {
      "image/png": "[encoded data removed]",
      "text/plain": [
       "<matplotlib.figure.Figure at 0x1c2c055470>"
      ]
     },
     "metadata": {},
     "output_type": "display_data"
    }
   ],
   "source": [
    "def weeks(day):\n",
    "    if day > 26:\n",
    "        return 5\n",
    "    elif (day > 19) & (day < 27):\n",
    "        return 4\n",
    "    elif (day > 12) & (day < 20):\n",
    "        return 3\n",
    "    elif (day > 5) & (day < 13):\n",
    "        return 2\n",
    "    else:\n",
    "        return 1\n",
    "data['week'] = data['day_month'].apply(weeks)\n",
    "print(data[['week', 'speed']].groupby(['week']).mean().T)\n",
    "data[['week', 'speed']].groupby(['week']).mean().plot(kind='bar', figsize=(10,5))\n",
    "plt.show()"
   ]
  },
  {
   "cell_type": "code",
   "execution_count": 23,
   "metadata": {},
   "outputs": [
    {
     "data": {
      "text/plain": [
       "F_onewayResult(statistic=2.0241788041310333, pvalue=0.088099535002236565)"
      ]
     },
     "execution_count": 23,
     "metadata": {},
     "output_type": "execute_result"
    }
   ],
   "source": [
    "week_1 = data['speed'].loc[data['week']==1]\n",
    "week_2 = data['speed'].loc[data['week']==2]\n",
    "week_3 = data['speed'].loc[data['week']==3]\n",
    "week_4 = data['speed'].loc[data['week']==4]\n",
    "week_5 = data['speed'].loc[data['week']==5]\n",
    "\n",
    "f_oneway(week_1, week_2, week_3, week_4, week_5)"
   ]
  },
  {
   "cell_type": "markdown",
   "metadata": {},
   "source": [
    "To determine if the average trip speeds are maerially the same in all weeks of September, I use ANOVA test.<br>\n",
    "As we can see the P-value is greater than 0.05 which means that the mean for each group is not significantly different from the others."
   ]
  },
  {
   "cell_type": "markdown",
   "metadata": {},
   "source": [
    "#### Speed by day of week for the month\n",
    "Here is to calculate Mon-Sun speed regardless of which week"
   ]
  },
  {
   "cell_type": "code",
   "execution_count": 24,
   "metadata": {},
   "outputs": [
    {
     "data": {
      "text/html": [
       "<div>\n",
       "<style>\n",
       "    .dataframe thead tr:only-child th {\n",
       "        text-align: right;\n",
       "    }\n",
       "\n",
       "    .dataframe thead th {\n",
       "        text-align: left;\n",
       "    }\n",
       "\n",
       "    .dataframe tbody tr th {\n",
       "        vertical-align: top;\n",
       "    }\n",
       "</style>\n",
       "<table border=\"1\" class=\"dataframe\">\n",
       "  <thead>\n",
       "    <tr style=\"text-align: right;\">\n",
       "      <th></th>\n",
       "      <th>speed</th>\n",
       "    </tr>\n",
       "    <tr>\n",
       "      <th>day_week</th>\n",
       "      <th></th>\n",
       "    </tr>\n",
       "  </thead>\n",
       "  <tbody>\n",
       "    <tr>\n",
       "      <th>1</th>\n",
       "      <td>45.420805</td>\n",
       "    </tr>\n",
       "    <tr>\n",
       "      <th>2</th>\n",
       "      <td>30.104382</td>\n",
       "    </tr>\n",
       "    <tr>\n",
       "      <th>3</th>\n",
       "      <td>50.659190</td>\n",
       "    </tr>\n",
       "    <tr>\n",
       "      <th>4</th>\n",
       "      <td>33.436784</td>\n",
       "    </tr>\n",
       "    <tr>\n",
       "      <th>5</th>\n",
       "      <td>29.613360</td>\n",
       "    </tr>\n",
       "    <tr>\n",
       "      <th>6</th>\n",
       "      <td>26.113824</td>\n",
       "    </tr>\n",
       "    <tr>\n",
       "      <th>7</th>\n",
       "      <td>39.937959</td>\n",
       "    </tr>\n",
       "  </tbody>\n",
       "</table>\n",
       "</div>"
      ],
      "text/plain": [
       "              speed\n",
       "day_week           \n",
       "1         45.420805\n",
       "2         30.104382\n",
       "3         50.659190\n",
       "4         33.436784\n",
       "5         29.613360\n",
       "6         26.113824\n",
       "7         39.937959"
      ]
     },
     "execution_count": 24,
     "metadata": {},
     "output_type": "execute_result"
    }
   ],
   "source": [
    "data[['day_week', 'speed']].groupby(['day_week']).mean()"
   ]
  },
  {
   "cell_type": "code",
   "execution_count": 25,
   "metadata": {},
   "outputs": [
    {
     "data": {
      "image/png": "[encoded data removed]",
      "text/plain": [
       "<matplotlib.figure.Figure at 0x10f3c1cc0>"
      ]
     },
     "metadata": {},
     "output_type": "display_data"
    }
   ],
   "source": [
    "data[['day_week', 'speed']].groupby(['day_week']).mean().plot(kind='bar', figsize=(15,5))\n",
    "plt.show()"
   ]
  },
  {
   "cell_type": "code",
   "execution_count": 26,
   "metadata": {},
   "outputs": [
    {
     "data": {
      "text/plain": [
       "F_onewayResult(statistic=0.90629218971781556, pvalue=0.48901210015527152)"
      ]
     },
     "execution_count": 26,
     "metadata": {},
     "output_type": "execute_result"
    }
   ],
   "source": [
    "dayweek_1 = data['speed'].loc[data['day_week']==1]\n",
    "dayweek_2 = data['speed'].loc[data['day_week']==2]\n",
    "dayweek_3 = data['speed'].loc[data['day_week']==3]\n",
    "dayweek_4 = data['speed'].loc[data['day_week']==4]\n",
    "dayweek_5 = data['speed'].loc[data['day_week']==5]\n",
    "dayweek_6 = data['speed'].loc[data['day_week']==6]\n",
    "dayweek_7 = data['speed'].loc[data['day_week']==7]\n",
    "\n",
    "f_oneway(dayweek_1, dayweek_2, dayweek_3, dayweek_4, dayweek_5, dayweek_6, dayweek_7)"
   ]
  },
  {
   "cell_type": "code",
   "execution_count": 27,
   "metadata": {},
   "outputs": [
    {
     "data": {
      "image/png": "[encoded data removed]",
      "text/plain": [
       "<matplotlib.figure.Figure at 0x1c278dd8d0>"
      ]
     },
     "metadata": {},
     "output_type": "display_data"
    },
    {
     "data": {
      "text/plain": [
       "count    4.660800e+04\n",
       "mean     1.096414e+02\n",
       "std      1.815239e+04\n",
       "min      0.000000e+00\n",
       "25%      8.801956e+00\n",
       "50%      1.112202e+01\n",
       "75%      1.417036e+01\n",
       "max      3.906000e+06\n",
       "Name: speed, dtype: float64"
      ]
     },
     "execution_count": 27,
     "metadata": {},
     "output_type": "execute_result"
    }
   ],
   "source": [
    "plt.figure(1, figsize=(20,0.5))\n",
    "sns.boxplot(x=data['speed'].loc[data['day_month'] ==30], orient='h')\n",
    "plt.show()\n",
    "data['speed'].loc[data['day_month'] ==30].describe()"
   ]
  },
  {
   "cell_type": "markdown",
   "metadata": {},
   "source": [
    "### Replace outliers to mean of speed\n",
    "As the discover to the data, I found there are some speeds are unbelievablely high such as over 200 miles per hour. Thus I will replace speed over 150 to the mean speed. And test its ditribution again."
   ]
  },
  {
   "cell_type": "code",
   "execution_count": 28,
   "metadata": {
    "collapsed": true
   },
   "outputs": [],
   "source": [
    "data['speed'].loc[data['speed'] > 150] = data['speed'].mean()"
   ]
  },
  {
   "cell_type": "markdown",
   "metadata": {},
   "source": [
    "#### Speed by day of month"
   ]
  },
  {
   "cell_type": "code",
   "execution_count": 29,
   "metadata": {},
   "outputs": [
    {
     "data": {
      "text/html": [
       "<div>\n",
       "<style>\n",
       "    .dataframe thead tr:only-child th {\n",
       "        text-align: right;\n",
       "    }\n",
       "\n",
       "    .dataframe thead th {\n",
       "        text-align: left;\n",
       "    }\n",
       "\n",
       "    .dataframe tbody tr th {\n",
       "        vertical-align: top;\n",
       "    }\n",
       "</style>\n",
       "<table border=\"1\" class=\"dataframe\">\n",
       "  <thead>\n",
       "    <tr style=\"text-align: right;\">\n",
       "      <th>day_month</th>\n",
       "      <th>1</th>\n",
       "      <th>2</th>\n",
       "      <th>3</th>\n",
       "      <th>4</th>\n",
       "      <th>5</th>\n",
       "      <th>6</th>\n",
       "      <th>7</th>\n",
       "      <th>8</th>\n",
       "      <th>9</th>\n",
       "      <th>10</th>\n",
       "      <th>...</th>\n",
       "      <th>21</th>\n",
       "      <th>22</th>\n",
       "      <th>23</th>\n",
       "      <th>24</th>\n",
       "      <th>25</th>\n",
       "      <th>26</th>\n",
       "      <th>27</th>\n",
       "      <th>28</th>\n",
       "      <th>29</th>\n",
       "      <th>30</th>\n",
       "    </tr>\n",
       "  </thead>\n",
       "  <tbody>\n",
       "    <tr>\n",
       "      <th>speed</th>\n",
       "      <td>12.744787</td>\n",
       "      <td>12.792451</td>\n",
       "      <td>12.519182</td>\n",
       "      <td>12.946911</td>\n",
       "      <td>14.089274</td>\n",
       "      <td>14.524076</td>\n",
       "      <td>14.678217</td>\n",
       "      <td>12.419023</td>\n",
       "      <td>11.895949</td>\n",
       "      <td>11.234747</td>\n",
       "      <td>...</td>\n",
       "      <td>12.643273</td>\n",
       "      <td>12.560347</td>\n",
       "      <td>13.414546</td>\n",
       "      <td>13.568477</td>\n",
       "      <td>12.822723</td>\n",
       "      <td>13.066746</td>\n",
       "      <td>13.855641</td>\n",
       "      <td>13.013409</td>\n",
       "      <td>12.35447</td>\n",
       "      <td>12.106771</td>\n",
       "    </tr>\n",
       "  </tbody>\n",
       "</table>\n",
       "<p>1 rows × 30 columns</p>\n",
       "</div>"
      ],
      "text/plain": [
       "day_month         1          2          3          4          5          6   \\\n",
       "speed      12.744787  12.792451  12.519182  12.946911  14.089274  14.524076   \n",
       "\n",
       "day_month         7          8          9          10    ...             21  \\\n",
       "speed      14.678217  12.419023  11.895949  11.234747    ...      12.643273   \n",
       "\n",
       "day_month         22         23         24         25         26         27  \\\n",
       "speed      12.560347  13.414546  13.568477  12.822723  13.066746  13.855641   \n",
       "\n",
       "day_month         28        29         30  \n",
       "speed      13.013409  12.35447  12.106771  \n",
       "\n",
       "[1 rows x 30 columns]"
      ]
     },
     "execution_count": 29,
     "metadata": {},
     "output_type": "execute_result"
    }
   ],
   "source": [
    "data[['day_month', 'speed']].groupby(['day_month']).mean().T"
   ]
  },
  {
   "cell_type": "code",
   "execution_count": 30,
   "metadata": {},
   "outputs": [
    {
     "data": {
      "image/png": "[encoded data removed]",
      "text/plain": [
       "<matplotlib.figure.Figure at 0x1c2c0419e8>"
      ]
     },
     "metadata": {},
     "output_type": "display_data"
    }
   ],
   "source": [
    "data[['day_month', 'speed']].groupby(['day_month']).mean().plot(kind='bar', figsize=(16,5))\n",
    "plt.show()"
   ]
  },
  {
   "cell_type": "markdown",
   "metadata": {},
   "source": [
    "#### Speed by weeks of month"
   ]
  },
  {
   "cell_type": "code",
   "execution_count": 31,
   "metadata": {},
   "outputs": [
    {
     "data": {
      "text/html": [
       "<div>\n",
       "<style>\n",
       "    .dataframe thead tr:only-child th {\n",
       "        text-align: right;\n",
       "    }\n",
       "\n",
       "    .dataframe thead th {\n",
       "        text-align: left;\n",
       "    }\n",
       "\n",
       "    .dataframe tbody tr th {\n",
       "        vertical-align: top;\n",
       "    }\n",
       "</style>\n",
       "<table border=\"1\" class=\"dataframe\">\n",
       "  <thead>\n",
       "    <tr style=\"text-align: right;\">\n",
       "      <th>week</th>\n",
       "      <th>1</th>\n",
       "      <th>2</th>\n",
       "      <th>3</th>\n",
       "      <th>4</th>\n",
       "      <th>5</th>\n",
       "    </tr>\n",
       "  </thead>\n",
       "  <tbody>\n",
       "    <tr>\n",
       "      <th>speed</th>\n",
       "      <td>13.074442</td>\n",
       "      <td>12.746674</td>\n",
       "      <td>12.702348</td>\n",
       "      <td>13.11425</td>\n",
       "      <td>12.880626</td>\n",
       "    </tr>\n",
       "  </tbody>\n",
       "</table>\n",
       "</div>"
      ],
      "text/plain": [
       "week           1          2          3         4          5\n",
       "speed  13.074442  12.746674  12.702348  13.11425  12.880626"
      ]
     },
     "execution_count": 31,
     "metadata": {},
     "output_type": "execute_result"
    }
   ],
   "source": [
    "data[['week', 'speed']].groupby(['week']).mean().T"
   ]
  },
  {
   "cell_type": "code",
   "execution_count": 32,
   "metadata": {},
   "outputs": [
    {
     "data": {
      "image/png": "[encoded data removed]",
      "text/plain": [
       "<matplotlib.figure.Figure at 0x1c278ab978>"
      ]
     },
     "metadata": {},
     "output_type": "display_data"
    }
   ],
   "source": [
    "data[['week', 'speed']].groupby(['week']).mean().plot(kind='bar', figsize=(10,5))\n",
    "plt.show()"
   ]
  },
  {
   "cell_type": "code",
   "execution_count": 33,
   "metadata": {},
   "outputs": [
    {
     "data": {
      "text/plain": [
       "F_onewayResult(statistic=282.61032621475465, pvalue=2.3616329533010673e-243)"
      ]
     },
     "execution_count": 33,
     "metadata": {},
     "output_type": "execute_result"
    }
   ],
   "source": [
    "week_1 = data['speed'].loc[data['week']==1]\n",
    "week_2 = data['speed'].loc[data['week']==2]\n",
    "week_3 = data['speed'].loc[data['week']==3]\n",
    "week_4 = data['speed'].loc[data['week']==4]\n",
    "week_5 = data['speed'].loc[data['week']==5]\n",
    "\n",
    "f_oneway(week_1, week_2, week_3, week_4, week_5)"
   ]
  },
  {
   "cell_type": "markdown",
   "metadata": {},
   "source": [
    "Here I use ANOVA again and the P-value is very small which indicates that the at least one of group mean is significantly different from the others."
   ]
  },
  {
   "cell_type": "markdown",
   "metadata": {},
   "source": [
    "#### Speed by day of week"
   ]
  },
  {
   "cell_type": "code",
   "execution_count": 34,
   "metadata": {},
   "outputs": [
    {
     "data": {
      "text/html": [
       "<div>\n",
       "<style>\n",
       "    .dataframe thead tr:only-child th {\n",
       "        text-align: right;\n",
       "    }\n",
       "\n",
       "    .dataframe thead th {\n",
       "        text-align: left;\n",
       "    }\n",
       "\n",
       "    .dataframe tbody tr th {\n",
       "        vertical-align: top;\n",
       "    }\n",
       "</style>\n",
       "<table border=\"1\" class=\"dataframe\">\n",
       "  <thead>\n",
       "    <tr style=\"text-align: right;\">\n",
       "      <th></th>\n",
       "      <th>speed</th>\n",
       "    </tr>\n",
       "    <tr>\n",
       "      <th>day_week</th>\n",
       "      <th></th>\n",
       "    </tr>\n",
       "  </thead>\n",
       "  <tbody>\n",
       "    <tr>\n",
       "      <th>1</th>\n",
       "      <td>13.433501</td>\n",
       "    </tr>\n",
       "    <tr>\n",
       "      <th>2</th>\n",
       "      <td>12.611056</td>\n",
       "    </tr>\n",
       "    <tr>\n",
       "      <th>3</th>\n",
       "      <td>12.430550</td>\n",
       "    </tr>\n",
       "    <tr>\n",
       "      <th>4</th>\n",
       "      <td>12.224180</td>\n",
       "    </tr>\n",
       "    <tr>\n",
       "      <th>5</th>\n",
       "      <td>12.325709</td>\n",
       "    </tr>\n",
       "    <tr>\n",
       "      <th>6</th>\n",
       "      <td>13.218812</td>\n",
       "    </tr>\n",
       "    <tr>\n",
       "      <th>7</th>\n",
       "      <td>13.981455</td>\n",
       "    </tr>\n",
       "  </tbody>\n",
       "</table>\n",
       "</div>"
      ],
      "text/plain": [
       "              speed\n",
       "day_week           \n",
       "1         13.433501\n",
       "2         12.611056\n",
       "3         12.430550\n",
       "4         12.224180\n",
       "5         12.325709\n",
       "6         13.218812\n",
       "7         13.981455"
      ]
     },
     "execution_count": 34,
     "metadata": {},
     "output_type": "execute_result"
    }
   ],
   "source": [
    "data[['day_week', 'speed']].groupby(['day_week']).mean()"
   ]
  },
  {
   "cell_type": "code",
   "execution_count": 35,
   "metadata": {},
   "outputs": [
    {
     "data": {
      "image/png": "[encoded data removed]",
      "text/plain": [
       "<matplotlib.figure.Figure at 0x1c27887f98>"
      ]
     },
     "metadata": {},
     "output_type": "display_data"
    },
    {
     "data": {
      "text/plain": [
       "count    46608.000000\n",
       "mean        12.106771\n",
       "std          5.860277\n",
       "min          0.000000\n",
       "25%          8.801956\n",
       "50%         11.122023\n",
       "75%         14.170357\n",
       "max        143.426295\n",
       "Name: speed, dtype: float64"
      ]
     },
     "execution_count": 35,
     "metadata": {},
     "output_type": "execute_result"
    }
   ],
   "source": [
    "plt.figure(1, figsize=(20,0.5))\n",
    "sns.boxplot(x=data['speed'].loc[data['day_month'] ==30], orient='h')\n",
    "plt.show()\n",
    "data['speed'].loc[data['day_month'] ==30].describe()"
   ]
  },
  {
   "cell_type": "markdown",
   "metadata": {},
   "source": [
    "# Conclusion\n",
    "\n",
    "For this data set, I think there are a lot of pre-processing could be done before build a model because the data has so many weird and extrem values.<br>\n",
    "A lot of feature engineerings could be done so that I could have more insight from data. I would exam each feature carefully and revise them accordingly to improve its effeciency of information delievery.\n",
    "\n",
    "If I could have more time, I will do feature engineering and split data set into train and test and then build a linear regression using LinearRegression(). I may also apply log transform to the data set."
   ]
  }
 ],
 "metadata": {
  "kernelspec": {
   "display_name": "Python 3",
   "language": "python",
   "name": "python3"
  },
  "language_info": {
   "codemirror_mode": {
    "name": "ipython",
    "version": 3
   },
   "file_extension": ".py",
   "mimetype": "text/x-python",
   "name": "python",
   "nbconvert_exporter": "python",
   "pygments_lexer": "ipython3",
   "version": "3.6.0"
  }
 },
 "nbformat": 4,
 "nbformat_minor": 2
}
